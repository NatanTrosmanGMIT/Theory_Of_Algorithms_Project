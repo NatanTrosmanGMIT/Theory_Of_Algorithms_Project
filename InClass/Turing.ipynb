{
 "cells": [
  {
   "cell_type": "code",
   "execution_count": 9,
   "id": "565e32f5",
   "metadata": {},
   "outputs": [],
   "source": [
    "class TuringMachine:\n",
    "    def __init__(self, tape, transition_function, initial_state='q0', final_states={'qf'}):\n",
    "        self.tape = list(tape)\n",
    "        self.current_state = initial_state\n",
    "        self.final_states = final_states\n",
    "        self.transition_function = transition_function\n",
    "        self.head_position = 0\n",
    "        self.steps = []\n",
    "\n",
    "    def step(self):\n",
    "        current_symbol = self.tape[self.head_position]\n",
    "        transition = self.transition_function.get((self.current_state, current_symbol), None)\n",
    "        if transition is None:\n",
    "            raise Exception(\"No transition defined for current state and symbol.\")\n",
    "        else:\n",
    "            new_state, new_symbol, direction = transition\n",
    "            self.tape[self.head_position] = new_symbol\n",
    "            self.head_position += direction\n",
    "            if self.head_position < 0:\n",
    "                self.tape = ['_'] + self.tape\n",
    "                self.head_position = 0\n",
    "            elif self.head_position >= len(self.tape):\n",
    "                self.tape.append('_')\n",
    "            self.current_state = new_state\n",
    "            self.steps.append((current_symbol, self.current_state, new_symbol, direction))\n",
    "\n",
    "    def run(self):\n",
    "        while self.current_state not in self.final_states:\n",
    "            self.step()\n",
    "\n",
    "        # Print the final tape state\n",
    "        print(\"Final tape: \", \"\".join(self.tape).strip(\"_\"))\n",
    "\n",
    "        # Print the steps of the Turing Machine\n",
    "        print(\"Steps:\")\n",
    "        for i, (current_symbol, current_state, new_symbol, direction) in enumerate(self.steps):\n",
    "            print(\"{:<2}: {:<2} {:<2} -> {:<2} {:<2}\".format(i, current_symbol, current_state, new_symbol, direction))\n",
    "\n",
    "    def visualize(self):\n",
    "        tape_length = len(self.tape)\n",
    "        max_head_pos = max(min(self.head_position, tape_length - 1), 0)\n",
    "\n",
    "        # Construct the tape visualization string\n",
    "        tape_str = \"\".join(self.tape[:max_head_pos]) + \"[\" + self.tape[max_head_pos] + \"]\" + \"\".join(self.tape[max_head_pos+1:])\n",
    "\n",
    "        # Construct the state visualization string\n",
    "        state_str = \"State: {}\".format(self.current_state)\n",
    "\n",
    "        # Print the visualization\n",
    "        print(tape_str)\n",
    "        print(\" \" * max_head_pos + state_str)\n",
    "\n",
    "    @staticmethod\n",
    "    def from_file(file_path):\n",
    "        with open(file_path, 'r') as f:\n",
    "            lines = f.readlines()\n",
    "            tape = lines[0].strip()\n",
    "            initial_state = lines[1].strip()\n",
    "            final_states = set(lines[2].strip().split())\n",
    "            transition_function = {}\n",
    "            for line in lines[3:]:\n",
    "                parts = line.strip().split()\n",
    "                current_state = parts[0]\n",
    "                current_symbol = parts[1]\n",
    "                new_state = parts[2]\n",
    "                new_symbol = parts[3]\n",
    "                direction = int(parts[4])\n",
    "                transition_function[(current_state, current_symbol)] = (new_state, new_symbol, direction)\n",
    "            return TuringMachine(tape, transition_function, initial_state, final_states)\n"
   ]
  },
  {
   "cell_type": "code",
   "execution_count": 10,
   "id": "25e26083",
   "metadata": {},
   "outputs": [],
   "source": [
    "def run_with_visualization(self):\n",
    "    while self.current_state not in self.final_states:\n",
    "        self.visualize()\n",
    "        self.step()\n",
    "\n",
    "    # Print the final tape state and visualization\n",
    "    self.visualize()\n",
    "    print(\"Final tape: \", \"\".join(self.tape).strip(\"_\"))\n",
    "\n",
    "def visualize(self):\n",
    "    tape_length = len(self.tape)\n",
    "    max_head_pos = max(min(self.head_position, tape_length - 1), 0)\n",
    "    tape_viz = \" \".join(self.tape)\n",
    "    tape_viz = tape_viz[:2 * max_head_pos] + \"[\" + tape_viz[2 * max_head_pos] + \"]\" + tape_viz[2 * max_head_pos + 1:]\n",
    "    state_viz = \"State: \" + self.current_state\n",
    "    print(tape_viz)\n",
    "    print(\" \" * (2 * max_head_pos) + state_viz)\n"
   ]
  },
  {
   "cell_type": "code",
   "execution_count": 11,
   "id": "2a6e07be",
   "metadata": {},
   "outputs": [
    {
     "ename": "SyntaxError",
     "evalue": "unmatched ')' (1364404733.py, line 3)",
     "output_type": "error",
     "traceback": [
      "\u001b[1;36m  File \u001b[1;32m\"C:\\Users\\User\\AppData\\Local\\Temp\\ipykernel_10184\\1364404733.py\"\u001b[1;36m, line \u001b[1;32m3\u001b[0m\n\u001b[1;33m    printresult)  # False\u001b[0m\n\u001b[1;37m               ^\u001b[0m\n\u001b[1;31mSyntaxError\u001b[0m\u001b[1;31m:\u001b[0m unmatched ')'\n"
     ]
    }
   ],
   "source": [
    "tm = TuringMachine('010', 'q0', {'qf', 'q1'}, transition_function)\n",
    "result = tm.run()\n",
    "printresult)  # False\n",
    "\n",
    "tm = TuringMachine('101', 'q0', {'qf', 'q1'}, transition_function)\n",
    "result = tm.run()\n",
    "print(result)  # True\n"
   ]
  },
  {
   "cell_type": "code",
   "execution_count": null,
   "id": "04e1dc59",
   "metadata": {},
   "outputs": [],
   "source": []
  }
 ],
 "metadata": {
  "kernelspec": {
   "display_name": "Python 3 (ipykernel)",
   "language": "python",
   "name": "python3"
  },
  "language_info": {
   "codemirror_mode": {
    "name": "ipython",
    "version": 3
   },
   "file_extension": ".py",
   "mimetype": "text/x-python",
   "name": "python",
   "nbconvert_exporter": "python",
   "pygments_lexer": "ipython3",
   "version": "3.9.13"
  }
 },
 "nbformat": 4,
 "nbformat_minor": 5
}
