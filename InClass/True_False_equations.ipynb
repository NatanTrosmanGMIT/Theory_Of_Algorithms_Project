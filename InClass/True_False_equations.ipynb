{
 "cells": [
  {
   "cell_type": "code",
   "execution_count": 5,
   "id": "8e3548ee",
   "metadata": {},
   "outputs": [
    {
     "name": "stdout",
     "output_type": "stream",
     "text": [
      "a=True, p=False, q=False, r=True\n",
      "a=True, p=False, q=False, r=False\n",
      "a=False, p=False, q=False, r=True\n",
      "a=False, p=False, q=False, r=False\n"
     ]
    }
   ],
   "source": [
    "# (p v ¬q)∧(¬p v q v r)∧¬p\n",
    "\n",
    "\n",
    "# Define the equation\n",
    "def equation1(a, p, q, r):\n",
    "    return (p or not q) and (not p or q or r) and (not p)\n",
    "\n",
    "# Check all possible combinations of a, p, q, and r\n",
    "for a in [True, False]:\n",
    "    for p in [True, False]:\n",
    "        for q in [True, False]:\n",
    "            for r in [True, False]:\n",
    "                # Check if the equation is satisfied\n",
    "                if equation1(a, p, q, r):\n",
    "                    print(f\"a={a}, p={p}, q={q}, r={r}\")\n"
   ]
  },
  {
   "cell_type": "code",
   "execution_count": 21,
   "id": "cfde3c1c",
   "metadata": {},
   "outputs": [
    {
     "name": "stdout",
     "output_type": "stream",
     "text": [
      "p=True, q=True, r=True\n",
      "p=True, q=True, r=False\n",
      "p=True, q=False, r=True\n",
      "p=True, q=False, r=False\n",
      "p=False, q=True, r=True\n",
      "p=False, q=True, r=False\n",
      "p=False, q=False, r=True\n",
      "p=False, q=False, r=False\n"
     ]
    }
   ],
   "source": [
    "# attempt 2\n",
    "\n",
    "# Define the equation\n",
    "def equation1(p, q, r):\n",
    "    return (p or not q) and (not p or q or r) and not p\n",
    "\n",
    "# Check all possible combinations of p, q, and r\n",
    "for p in [True, False]:\n",
    "    for q in [True, False]:\n",
    "        for r in [True, False]:\n",
    "            # Check if the equation is satisfied\n",
    "                print(f\"p={p}, q={q}, r={r}\")\n",
    "\n"
   ]
  },
  {
   "cell_type": "code",
   "execution_count": 23,
   "id": "0bfcc80a",
   "metadata": {},
   "outputs": [
    {
     "name": "stdout",
     "output_type": "stream",
     "text": [
      "p=True, q=True, r=True\n",
      "p=True, q=True, r=False\n",
      "p=True, q=False, r=True\n",
      "p=True, q=False, r=False\n",
      "p=False, q=True, r=True\n",
      "p=False, q=True, r=False\n",
      "p=False, q=False, r=True\n",
      "p=False, q=False, r=False\n"
     ]
    }
   ],
   "source": [
    "# trying a different way\n",
    "# (p or not-q)and(not-p or q or r)and not-p\n",
    "\n",
    "# Define the equation\n",
    "def equation1(p, q, r):\n",
    "    return (p or not q) and (not p or q or r) and not p\n",
    "\n",
    "# Check all possible combinations of p, q, and r\n",
    "found_solution = False\n",
    "for p in [True, False]:\n",
    "    for q in [True, False]:\n",
    "        for r in [True, False]:\n",
    "            # Check if the equation is satisfied\n",
    "            if equation1(p, q, r):\n",
    "                found_solution = True\n",
    "                print(f\"p={p}, q={q}, r={r}\")\n",
    "\n",
    "# Print a message if no solutions were found\n",
    "if not found_solution:\n",
    "    print(\"No solutions found.\")\n"
   ]
  },
  {
   "cell_type": "code",
   "execution_count": 25,
   "id": "3920b185",
   "metadata": {},
   "outputs": [
    {
     "name": "stdout",
     "output_type": "stream",
     "text": [
      "No solutions found. The equation is always false.\n"
     ]
    }
   ],
   "source": [
    "# p ∧ q ∧ (¬p v ¬q)\n",
    "\n",
    "# Define the equation\n",
    "def equation2(a, p, q, r):\n",
    "    return p and q and (not p or not q)\n",
    "\n",
    "# Check all possible combinations of a, p, q, and r\n",
    "found_solution = False\n",
    "for a in [True, False]:\n",
    "    for p in [True, False]:\n",
    "        for q in [True, False]:\n",
    "            for r in [True, False]:\n",
    "                # Check if the equation is satisfied\n",
    "                if equation2(a, p, q, r):\n",
    "                    found_solution = True\n",
    "                    print(f\"a={a}, p={p}, q={q}, r={r}\")\n",
    "\n",
    "# Print a message if no solutions were found\n",
    "if not found_solution:\n",
    "    print(\"No solutions found. The equation is always false.\")\n"
   ]
  },
  {
   "cell_type": "code",
   "execution_count": 24,
   "id": "ffa3acdb",
   "metadata": {},
   "outputs": [
    {
     "name": "stdout",
     "output_type": "stream",
     "text": [
      "a=True, p=True, q=True, r=True\n",
      "a=False, p=True, q=True, r=True\n"
     ]
    }
   ],
   "source": [
    "# p ∧ (¬p v q)∧ r\n",
    "\n",
    "# Define the equation\n",
    "def equation3(a, p, q, r):\n",
    "    return p and (not p or q) and r\n",
    "\n",
    "# Check all possible combinations of a, p, q, and r\n",
    "for a in [True, False]:\n",
    "    for p in [True, False]:\n",
    "        for q in [True, False]:\n",
    "            for r in [True, False]:\n",
    "                # Check if the equation is satisfied\n",
    "                if equation3(a, p, q, r):\n",
    "                    print(f\"a={a}, p={p}, q={q}, r={r}\")\n"
   ]
  },
  {
   "cell_type": "code",
   "execution_count": null,
   "id": "3f0b6fbf",
   "metadata": {},
   "outputs": [],
   "source": []
  }
 ],
 "metadata": {
  "kernelspec": {
   "display_name": "Python 3 (ipykernel)",
   "language": "python",
   "name": "python3"
  },
  "language_info": {
   "codemirror_mode": {
    "name": "ipython",
    "version": 3
   },
   "file_extension": ".py",
   "mimetype": "text/x-python",
   "name": "python",
   "nbconvert_exporter": "python",
   "pygments_lexer": "ipython3",
   "version": "3.9.13"
  }
 },
 "nbformat": 4,
 "nbformat_minor": 5
}
