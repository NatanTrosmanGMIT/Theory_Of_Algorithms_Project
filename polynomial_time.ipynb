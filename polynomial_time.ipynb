{
 "cells": [
  {
   "cell_type": "markdown",
   "id": "e55b43da",
   "metadata": {},
   "source": [
    "***\n",
    "# Polynomial time\n",
    "***"
   ]
  },
  {
   "cell_type": "markdown",
   "id": "03708399",
   "metadata": {},
   "source": [
    "Polynomial time is a measure of the efficiency of an algorithm in computational complexity theory. In simple terms, it refers to the time taken by an algorithm to solve a problem, which is a polynomial function of the size of the input. [1]\n",
    "\n",
    "The \"size\" of the input can be defined differently depending on the problem, but it usually refers to the number of elements or bits in the input [2]. For example, if we have a problem where the input is a list of n integers, the size of the input would be n.\n",
    "\n",
    "A polynomial time algorithm is considered to be very efficient because the time taken by the algorithm to solve the problem increases only slightly as the size of the input increases [1]. The degree of the polynomial function represents the number of times the input size appears in the function. For example, if the time required to solve a problem is proportional to the square of the size of the input (n^2), the algorithm is said to be a \"quadratic\" time algorithm, and if it's proportional to the cube of the input size (n^3) it's a \"cubic\" time algorithm. [4]\n",
    "\n",
    "For example, if we have an input of size n=10, a quadratic time algorithm would take 100 steps to solve the problem, while a cubic time algorithm would take 1000 steps [2] . As the input size grows, the difference in the number of steps between a quadratic time algorithm and a cubic time algorithm becomes even more significant.\n",
    "\n",
    "It's important to note that polynomial time does not always equal to a fast algorithm, as the degree of the polynomial can be high and therefore the algorithm can be slow. However, polynomial time algorithms are considered to be efficient because they can handle large inputs [1], while exponential time algorithms become impractical very quickly as the input size increases.\n",
    "\n",
    "A common example of a polynomial time algorithm is the simple sorting algorithm like bubble sort or insertion sort [3]. These algorithms have a time complexity of O(n^2) which means they take n^2 steps to complete which is a polynomial function of n. [1]\n",
    "\n",
    "In summary, polynomial time algorithms are considered to be very efficient because the time taken by the algorithm to solve the problem increases only slightly as the size of the input increases [2], and are generally easier to implement and understand [1]. Understanding the concept of polynomial time is essential for a software developer to understand the trade-offs between different algorithms and to choose the most efficient algorithm for a given problem. [1]"
   ]
  },
  {
   "cell_type": "markdown",
   "id": "f1834a87",
   "metadata": {},
   "source": [
    "In addition to polynomial time, there are other measures of time complexity that are used to analyze algorithms, such as constant time (O(1)), logarithmic time (O(log n)), and linear time (O(n)).\n",
    "\n",
    "Constant time algorithms are considered to be the most efficient, as the time taken by the algorithm to solve the problem does not depend on the size of the input. For example, accessing an element in an array using an index is a constant time operation because the time taken to access the element does not depend on the size of the array.\n",
    "\n",
    "Logarithmic time algorithms are considered to be very efficient as well, as the time taken by the algorithm increases very slowly as the size of the input increases. For example, the binary search algorithm has a logarithmic time complexity of O(log n) because the algorithm divides the input in half at each step, reducing the size of the input by a factor of 2.\n",
    "\n",
    "Linear time algorithms are considered to be efficient as well, as the time taken by the algorithm increases linearly with the size of the input. For example, a simple loop that iterates through an array and performs some operation on each element is a linear time operation because the time taken to complete the operation depends on the number of elements in the array.\n",
    "\n",
    "It's important to note that these time complexities are upper bounds and the actual time taken by an algorithm can be less than the stated time complexity. For example, an algorithm with a time complexity of O(n^2) could take less time to solve a problem if the input is already sorted.\n",
    "\n",
    "In conclusion, as a software developer in the fourth year, understanding the concept of time complexity is essential to analyze and compare the efficiency of different algorithms and choose the most appropriate one for a given problem. The polynomial time is one of the measure of time complexity, it's considered to be very efficient because the time taken by the algorithm to solve the problem increases only slightly as the size of the input increases. But, there are other time complexities like constant, logarithmic and linear time which are also important to understand and to use in the right context."
   ]
  },
  {
   "cell_type": "code",
   "execution_count": null,
   "id": "39cf45cc",
   "metadata": {},
   "outputs": [],
   "source": []
  },
  {
   "cell_type": "code",
   "execution_count": null,
   "id": "53ad0e53",
   "metadata": {},
   "outputs": [],
   "source": []
  },
  {
   "cell_type": "code",
   "execution_count": null,
   "id": "94c1e389",
   "metadata": {},
   "outputs": [],
   "source": []
  },
  {
   "cell_type": "markdown",
   "id": "c289b5f4",
   "metadata": {},
   "source": [
    "***\n",
    "### References\n",
    "***\n",
    "\n",
    "* [1] Cormen, T.H. et al. Introduction to algorithms third edition - blackball. Available at: https://sd.blackball.lv/library/Introduction_to_Algorithms_Third_Edition_(2009).pdf (Accessed: January 26, 2023). <br><br>\n",
    "* [2] Rowell, E. and other contributors. Know thy complexities!, bigocheatsheet. Available at:<br> https://www.bigocheatsheet.com/ (Accessed: January 26, 2023). <br><br>\n",
    "* [3] Time complexity (2023) Wikipedia. Wikimedia Foundation. Available at:<br> https://en.wikipedia.org/wiki/Time_complexity (Accessed: January 26, 2023). <br><br>"
   ]
  }
 ],
 "metadata": {
  "kernelspec": {
   "display_name": "Python 3 (ipykernel)",
   "language": "python",
   "name": "python3"
  },
  "language_info": {
   "codemirror_mode": {
    "name": "ipython",
    "version": 3
   },
   "file_extension": ".py",
   "mimetype": "text/x-python",
   "name": "python",
   "nbconvert_exporter": "python",
   "pygments_lexer": "ipython3",
   "version": "3.9.13"
  }
 },
 "nbformat": 4,
 "nbformat_minor": 5
}
